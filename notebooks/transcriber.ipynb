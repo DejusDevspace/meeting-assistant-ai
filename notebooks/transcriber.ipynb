{
 "cells": [
  {
   "cell_type": "markdown",
   "id": "19be4c46",
   "metadata": {},
   "source": [
    "## ✍ Audio Transcriber"
   ]
  },
  {
   "cell_type": "markdown",
   "id": "8b50ed75",
   "metadata": {},
   "source": [
    "Testing the audio transcriber on recorded audio file(s)."
   ]
  },
  {
   "cell_type": "code",
   "execution_count": null,
   "id": "c2c8ba88",
   "metadata": {},
   "outputs": [
    {
     "data": {
      "text/plain": [
       "True"
      ]
     },
     "execution_count": 1,
     "metadata": {},
     "output_type": "execute_result"
    }
   ],
   "source": [
    "import os\n",
    "from dotenv import load_dotenv\n",
    "from groq import Groq\n",
    "\n",
    "# Load environment variablesi\n",
    "load_dotenv()"
   ]
  },
  {
   "cell_type": "code",
   "execution_count": null,
   "id": "5477049e",
   "metadata": {},
   "outputs": [],
   "source": [
    "# Transcribing helper\n",
    "def transcribe(client: Groq, file_path: str) -> str:\n",
    "    try:\n",
    "        # Open the audio file\n",
    "        with open(file_path, \"rb\") as audio_file:\n",
    "            # Create a transcription of the audio file\n",
    "            print(\"Transcribing audio...\")\n",
    "            transcription = client.audio.transcriptions.create(\n",
    "                file=audio_file,\n",
    "                model=\"whisper-large-v3-turbo\",\n",
    "                language=\"en\",\n",
    "                response_format=\"text\",\n",
    "            )\n",
    "\n",
    "        if not transcription:\n",
    "            print(\"No transcription returned.\")\n",
    "            return\n",
    "\n",
    "        print(\"Autio transcription complete!\")\n",
    "\n",
    "        return transcription\n",
    "\n",
    "    except Exception as e:\n",
    "        print(f\"Error during transcription: {e}\")"
   ]
  },
  {
   "cell_type": "code",
   "execution_count": 7,
   "id": "ace67cd2",
   "metadata": {},
   "outputs": [],
   "source": [
    "# Defining the client from Groq\n",
    "client = Groq(api_key=os.getenv(\"GROQ_API_KEY\"))"
   ]
  },
  {
   "cell_type": "code",
   "execution_count": 8,
   "id": "1255d003",
   "metadata": {},
   "outputs": [
    {
     "name": "stdout",
     "output_type": "stream",
     "text": [
      "Transcribing audio...\n",
      "Autio transcription complete!\n"
     ]
    }
   ],
   "source": [
    "# Testing transcription on recorded audio file\n",
    "transcript = transcribe(client=client, file_path=\"../data/audio/raw/transcription-test.wav\")"
   ]
  },
  {
   "cell_type": "code",
   "execution_count": 13,
   "metadata": {},
   "outputs": [
    {
     "name": "stdout",
     "output_type": "stream",
     "text": [
      "Transcription Result: \n",
      "\n",
      " Alright, to summarize, Sarah will handle the budget report, Tom will follow up with the vendor, and I will schedule the next team meeting for Thursday afternoon. Anything else we need to cover?\n"
     ]
    }
   ],
   "source": [
    "print(f\"Transcription Result: \\n\\n{transcript}\")"
   ]
  },
  {
   "cell_type": "code",
   "execution_count": null,
   "id": "0cc8b893",
   "metadata": {},
   "outputs": [],
   "source": []
  }
 ],
 "metadata": {
  "kernelspec": {
   "display_name": "meeting-assistant-app",
   "language": "python",
   "name": "python3"
  },
  "language_info": {
   "codemirror_mode": {
    "name": "ipython",
    "version": 3
   },
   "file_extension": ".py",
   "mimetype": "text/x-python",
   "name": "python",
   "nbconvert_exporter": "python",
   "pygments_lexer": "ipython3",
   "version": "3.13.2"
  }
 },
 "nbformat": 4,
 "nbformat_minor": 5
}
